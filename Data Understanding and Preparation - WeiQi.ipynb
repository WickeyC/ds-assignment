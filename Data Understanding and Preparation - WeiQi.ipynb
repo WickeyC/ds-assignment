{
 "cells": [
  {
   "cell_type": "markdown",
   "id": "64a0ce7e",
   "metadata": {},
   "source": [
    "# Price Prediction for Gold, Platinum, and Silver\n",
    "\n",
    "Supervised Learning - Regression Predictive Models"
   ]
  },
  {
   "cell_type": "markdown",
   "id": "aadf68cf",
   "metadata": {},
   "source": [
    "## 1. Importing Libraries"
   ]
  },
  {
   "cell_type": "code",
   "execution_count": 185,
   "id": "3064ff6f",
   "metadata": {},
   "outputs": [],
   "source": [
    "import pandas as pd\n",
    "import numpy as np"
   ]
  },
  {
   "cell_type": "code",
   "execution_count": 198,
   "id": "ba742c96",
   "metadata": {},
   "outputs": [],
   "source": [
    "# configurations for pandas display\n",
    "pd.options.display.max_columns = 2000\n",
    "pd.options.display.max_rows = 2000\n",
    "pd.options.display.max_seq_items = 2000"
   ]
  },
  {
   "cell_type": "markdown",
   "id": "0329ee1c",
   "metadata": {},
   "source": [
    "## 2. Data Understanding\n",
    "### 2.1 File Reading and Basic Exploring"
   ]
  },
  {
   "cell_type": "code",
   "execution_count": 187,
   "id": "5d534dd4",
   "metadata": {
    "scrolled": true
   },
   "outputs": [],
   "source": [
    "gold_price = pd.read_csv('gold_price.csv')"
   ]
  },
  {
   "cell_type": "code",
   "execution_count": 199,
   "id": "9ec3d3e9",
   "metadata": {
    "scrolled": true
   },
   "outputs": [
    {
     "data": {
      "text/html": [
       "<div>\n",
       "<style scoped>\n",
       "    .dataframe tbody tr th:only-of-type {\n",
       "        vertical-align: middle;\n",
       "    }\n",
       "\n",
       "    .dataframe tbody tr th {\n",
       "        vertical-align: top;\n",
       "    }\n",
       "\n",
       "    .dataframe thead th {\n",
       "        text-align: right;\n",
       "    }\n",
       "</style>\n",
       "<table border=\"1\" class=\"dataframe\">\n",
       "  <thead>\n",
       "    <tr style=\"text-align: right;\">\n",
       "      <th></th>\n",
       "      <th>Date</th>\n",
       "      <th>Open</th>\n",
       "      <th>High</th>\n",
       "      <th>Low</th>\n",
       "      <th>Close</th>\n",
       "      <th>Adj Close</th>\n",
       "      <th>Volume</th>\n",
       "      <th>SP_open</th>\n",
       "      <th>SP_high</th>\n",
       "      <th>SP_low</th>\n",
       "      <th>SP_close</th>\n",
       "      <th>SP_Ajclose</th>\n",
       "      <th>SP_volume</th>\n",
       "      <th>DJ_open</th>\n",
       "      <th>DJ_high</th>\n",
       "      <th>DJ_low</th>\n",
       "      <th>DJ_close</th>\n",
       "      <th>DJ_Ajclose</th>\n",
       "      <th>DJ_volume</th>\n",
       "      <th>EG_open</th>\n",
       "      <th>EG_high</th>\n",
       "      <th>EG_low</th>\n",
       "      <th>EG_close</th>\n",
       "      <th>EG_Ajclose</th>\n",
       "      <th>EG_volume</th>\n",
       "      <th>EU_Price</th>\n",
       "      <th>EU_open</th>\n",
       "      <th>EU_high</th>\n",
       "      <th>EU_low</th>\n",
       "      <th>EU_Trend</th>\n",
       "      <th>OF_Price</th>\n",
       "      <th>OF_Open</th>\n",
       "      <th>OF_High</th>\n",
       "      <th>OF_Low</th>\n",
       "      <th>OF_Volume</th>\n",
       "      <th>OF_Trend</th>\n",
       "      <th>OS_Price</th>\n",
       "      <th>OS_Open</th>\n",
       "      <th>OS_High</th>\n",
       "      <th>OS_Low</th>\n",
       "      <th>OS_Trend</th>\n",
       "      <th>SF_Price</th>\n",
       "      <th>SF_Open</th>\n",
       "      <th>SF_High</th>\n",
       "      <th>SF_Low</th>\n",
       "      <th>SF_Volume</th>\n",
       "      <th>SF_Trend</th>\n",
       "      <th>USB_Price</th>\n",
       "      <th>USB_Open</th>\n",
       "      <th>USB_High</th>\n",
       "      <th>USB_Low</th>\n",
       "      <th>USB_Trend</th>\n",
       "      <th>PLT_Price</th>\n",
       "      <th>PLT_Open</th>\n",
       "      <th>PLT_High</th>\n",
       "      <th>PLT_Low</th>\n",
       "      <th>PLT_Trend</th>\n",
       "      <th>PLD_Price</th>\n",
       "      <th>PLD_Open</th>\n",
       "      <th>PLD_High</th>\n",
       "      <th>PLD_Low</th>\n",
       "      <th>PLD_Trend</th>\n",
       "      <th>RHO_PRICE</th>\n",
       "      <th>USDI_Price</th>\n",
       "      <th>USDI_Open</th>\n",
       "      <th>USDI_High</th>\n",
       "      <th>USDI_Low</th>\n",
       "      <th>USDI_Volume</th>\n",
       "      <th>USDI_Trend</th>\n",
       "      <th>GDX_Open</th>\n",
       "      <th>GDX_High</th>\n",
       "      <th>GDX_Low</th>\n",
       "      <th>GDX_Close</th>\n",
       "      <th>GDX_Adj Close</th>\n",
       "      <th>GDX_Volume</th>\n",
       "      <th>USO_Open</th>\n",
       "      <th>USO_High</th>\n",
       "      <th>USO_Low</th>\n",
       "      <th>USO_Close</th>\n",
       "      <th>USO_Adj Close</th>\n",
       "      <th>USO_Volume</th>\n",
       "    </tr>\n",
       "  </thead>\n",
       "  <tbody>\n",
       "    <tr>\n",
       "      <th>0</th>\n",
       "      <td>2011-12-15</td>\n",
       "      <td>154.740005</td>\n",
       "      <td>154.949997</td>\n",
       "      <td>151.710007</td>\n",
       "      <td>152.330002</td>\n",
       "      <td>152.330002</td>\n",
       "      <td>21521900</td>\n",
       "      <td>123.029999</td>\n",
       "      <td>123.199997</td>\n",
       "      <td>121.989998</td>\n",
       "      <td>122.180000</td>\n",
       "      <td>105.441238</td>\n",
       "      <td>199109200</td>\n",
       "      <td>11825.29004</td>\n",
       "      <td>11967.83984</td>\n",
       "      <td>11825.21973</td>\n",
       "      <td>11868.80957</td>\n",
       "      <td>11868.80957</td>\n",
       "      <td>136930000</td>\n",
       "      <td>74.550003</td>\n",
       "      <td>76.150002</td>\n",
       "      <td>72.150002</td>\n",
       "      <td>72.900002</td>\n",
       "      <td>70.431755</td>\n",
       "      <td>787900</td>\n",
       "      <td>1.3018</td>\n",
       "      <td>1.2982</td>\n",
       "      <td>1.3051</td>\n",
       "      <td>1.2957</td>\n",
       "      <td>1</td>\n",
       "      <td>105.09</td>\n",
       "      <td>104.88</td>\n",
       "      <td>106.50</td>\n",
       "      <td>104.88</td>\n",
       "      <td>14330</td>\n",
       "      <td>1</td>\n",
       "      <td>93.42</td>\n",
       "      <td>94.91</td>\n",
       "      <td>96.00</td>\n",
       "      <td>93.33</td>\n",
       "      <td>0</td>\n",
       "      <td>53604</td>\n",
       "      <td>54248</td>\n",
       "      <td>54248</td>\n",
       "      <td>52316</td>\n",
       "      <td>119440</td>\n",
       "      <td>1</td>\n",
       "      <td>1.911</td>\n",
       "      <td>1.911</td>\n",
       "      <td>1.911</td>\n",
       "      <td>1.911</td>\n",
       "      <td>1</td>\n",
       "      <td>1414.65</td>\n",
       "      <td>1420.30</td>\n",
       "      <td>1423.35</td>\n",
       "      <td>1376.85</td>\n",
       "      <td>0</td>\n",
       "      <td>618.85</td>\n",
       "      <td>614.70</td>\n",
       "      <td>615.00</td>\n",
       "      <td>614.60</td>\n",
       "      <td>1</td>\n",
       "      <td>1425</td>\n",
       "      <td>80.341</td>\n",
       "      <td>80.565</td>\n",
       "      <td>80.630</td>\n",
       "      <td>80.130</td>\n",
       "      <td>22850</td>\n",
       "      <td>0</td>\n",
       "      <td>53.009998</td>\n",
       "      <td>53.139999</td>\n",
       "      <td>51.570000</td>\n",
       "      <td>51.680000</td>\n",
       "      <td>48.973877</td>\n",
       "      <td>20605600</td>\n",
       "      <td>36.900002</td>\n",
       "      <td>36.939999</td>\n",
       "      <td>36.049999</td>\n",
       "      <td>36.130001</td>\n",
       "      <td>36.130001</td>\n",
       "      <td>12616700</td>\n",
       "    </tr>\n",
       "    <tr>\n",
       "      <th>1</th>\n",
       "      <td>2011-12-16</td>\n",
       "      <td>154.309998</td>\n",
       "      <td>155.369995</td>\n",
       "      <td>153.899994</td>\n",
       "      <td>155.229996</td>\n",
       "      <td>155.229996</td>\n",
       "      <td>18124300</td>\n",
       "      <td>122.230003</td>\n",
       "      <td>122.949997</td>\n",
       "      <td>121.300003</td>\n",
       "      <td>121.589996</td>\n",
       "      <td>105.597549</td>\n",
       "      <td>220481400</td>\n",
       "      <td>11870.25000</td>\n",
       "      <td>11968.17969</td>\n",
       "      <td>11819.30957</td>\n",
       "      <td>11866.38965</td>\n",
       "      <td>11866.38965</td>\n",
       "      <td>389520000</td>\n",
       "      <td>73.599998</td>\n",
       "      <td>75.099998</td>\n",
       "      <td>73.349998</td>\n",
       "      <td>74.900002</td>\n",
       "      <td>72.364037</td>\n",
       "      <td>896600</td>\n",
       "      <td>1.3035</td>\n",
       "      <td>1.3020</td>\n",
       "      <td>1.3087</td>\n",
       "      <td>1.2997</td>\n",
       "      <td>1</td>\n",
       "      <td>103.35</td>\n",
       "      <td>103.51</td>\n",
       "      <td>104.56</td>\n",
       "      <td>102.46</td>\n",
       "      <td>140080</td>\n",
       "      <td>0</td>\n",
       "      <td>93.79</td>\n",
       "      <td>93.43</td>\n",
       "      <td>94.80</td>\n",
       "      <td>92.53</td>\n",
       "      <td>1</td>\n",
       "      <td>53458</td>\n",
       "      <td>53650</td>\n",
       "      <td>54030</td>\n",
       "      <td>52890</td>\n",
       "      <td>65390</td>\n",
       "      <td>0</td>\n",
       "      <td>1.851</td>\n",
       "      <td>1.851</td>\n",
       "      <td>1.851</td>\n",
       "      <td>1.851</td>\n",
       "      <td>0</td>\n",
       "      <td>1420.25</td>\n",
       "      <td>1414.75</td>\n",
       "      <td>1431.75</td>\n",
       "      <td>1400.70</td>\n",
       "      <td>1</td>\n",
       "      <td>623.65</td>\n",
       "      <td>622.60</td>\n",
       "      <td>623.45</td>\n",
       "      <td>622.30</td>\n",
       "      <td>1</td>\n",
       "      <td>1400</td>\n",
       "      <td>80.249</td>\n",
       "      <td>80.175</td>\n",
       "      <td>80.395</td>\n",
       "      <td>79.935</td>\n",
       "      <td>13150</td>\n",
       "      <td>0</td>\n",
       "      <td>52.500000</td>\n",
       "      <td>53.180000</td>\n",
       "      <td>52.040001</td>\n",
       "      <td>52.680000</td>\n",
       "      <td>49.921513</td>\n",
       "      <td>16285400</td>\n",
       "      <td>36.180000</td>\n",
       "      <td>36.500000</td>\n",
       "      <td>35.730000</td>\n",
       "      <td>36.270000</td>\n",
       "      <td>36.270000</td>\n",
       "      <td>12578800</td>\n",
       "    </tr>\n",
       "    <tr>\n",
       "      <th>2</th>\n",
       "      <td>2011-12-19</td>\n",
       "      <td>155.479996</td>\n",
       "      <td>155.860001</td>\n",
       "      <td>154.360001</td>\n",
       "      <td>154.869995</td>\n",
       "      <td>154.869995</td>\n",
       "      <td>12547200</td>\n",
       "      <td>122.059998</td>\n",
       "      <td>122.320000</td>\n",
       "      <td>120.029999</td>\n",
       "      <td>120.290001</td>\n",
       "      <td>104.468536</td>\n",
       "      <td>183903000</td>\n",
       "      <td>11866.54004</td>\n",
       "      <td>11925.87988</td>\n",
       "      <td>11735.19043</td>\n",
       "      <td>11766.25977</td>\n",
       "      <td>11766.25977</td>\n",
       "      <td>135170000</td>\n",
       "      <td>69.099998</td>\n",
       "      <td>69.800003</td>\n",
       "      <td>64.199997</td>\n",
       "      <td>64.699997</td>\n",
       "      <td>62.509384</td>\n",
       "      <td>2096700</td>\n",
       "      <td>1.2995</td>\n",
       "      <td>1.3043</td>\n",
       "      <td>1.3044</td>\n",
       "      <td>1.2981</td>\n",
       "      <td>0</td>\n",
       "      <td>103.64</td>\n",
       "      <td>103.63</td>\n",
       "      <td>104.57</td>\n",
       "      <td>102.37</td>\n",
       "      <td>147880</td>\n",
       "      <td>1</td>\n",
       "      <td>94.09</td>\n",
       "      <td>93.77</td>\n",
       "      <td>94.43</td>\n",
       "      <td>92.55</td>\n",
       "      <td>1</td>\n",
       "      <td>52961</td>\n",
       "      <td>53400</td>\n",
       "      <td>53400</td>\n",
       "      <td>52544</td>\n",
       "      <td>67280</td>\n",
       "      <td>0</td>\n",
       "      <td>1.810</td>\n",
       "      <td>1.810</td>\n",
       "      <td>1.810</td>\n",
       "      <td>1.810</td>\n",
       "      <td>0</td>\n",
       "      <td>1411.10</td>\n",
       "      <td>1422.65</td>\n",
       "      <td>1427.60</td>\n",
       "      <td>1404.60</td>\n",
       "      <td>0</td>\n",
       "      <td>608.80</td>\n",
       "      <td>626.00</td>\n",
       "      <td>630.00</td>\n",
       "      <td>608.60</td>\n",
       "      <td>0</td>\n",
       "      <td>1400</td>\n",
       "      <td>80.207</td>\n",
       "      <td>80.300</td>\n",
       "      <td>80.470</td>\n",
       "      <td>80.125</td>\n",
       "      <td>970</td>\n",
       "      <td>0</td>\n",
       "      <td>52.490002</td>\n",
       "      <td>52.549999</td>\n",
       "      <td>51.029999</td>\n",
       "      <td>51.169998</td>\n",
       "      <td>48.490578</td>\n",
       "      <td>15120200</td>\n",
       "      <td>36.389999</td>\n",
       "      <td>36.450001</td>\n",
       "      <td>35.930000</td>\n",
       "      <td>36.200001</td>\n",
       "      <td>36.200001</td>\n",
       "      <td>7418200</td>\n",
       "    </tr>\n",
       "    <tr>\n",
       "      <th>3</th>\n",
       "      <td>2011-12-20</td>\n",
       "      <td>156.820007</td>\n",
       "      <td>157.429993</td>\n",
       "      <td>156.580002</td>\n",
       "      <td>156.979996</td>\n",
       "      <td>156.979996</td>\n",
       "      <td>9136300</td>\n",
       "      <td>122.180000</td>\n",
       "      <td>124.139999</td>\n",
       "      <td>120.370003</td>\n",
       "      <td>123.930000</td>\n",
       "      <td>107.629784</td>\n",
       "      <td>225418100</td>\n",
       "      <td>11769.20996</td>\n",
       "      <td>12117.12988</td>\n",
       "      <td>11768.83008</td>\n",
       "      <td>12103.58008</td>\n",
       "      <td>12103.58008</td>\n",
       "      <td>165180000</td>\n",
       "      <td>66.449997</td>\n",
       "      <td>68.099998</td>\n",
       "      <td>66.000000</td>\n",
       "      <td>67.000000</td>\n",
       "      <td>64.731514</td>\n",
       "      <td>875300</td>\n",
       "      <td>1.3079</td>\n",
       "      <td>1.3003</td>\n",
       "      <td>1.3133</td>\n",
       "      <td>1.2994</td>\n",
       "      <td>1</td>\n",
       "      <td>106.73</td>\n",
       "      <td>104.30</td>\n",
       "      <td>107.27</td>\n",
       "      <td>103.91</td>\n",
       "      <td>170240</td>\n",
       "      <td>1</td>\n",
       "      <td>95.55</td>\n",
       "      <td>96.39</td>\n",
       "      <td>99.70</td>\n",
       "      <td>96.39</td>\n",
       "      <td>1</td>\n",
       "      <td>53487</td>\n",
       "      <td>52795</td>\n",
       "      <td>53575</td>\n",
       "      <td>52595</td>\n",
       "      <td>55130</td>\n",
       "      <td>1</td>\n",
       "      <td>1.927</td>\n",
       "      <td>1.927</td>\n",
       "      <td>1.927</td>\n",
       "      <td>1.927</td>\n",
       "      <td>1</td>\n",
       "      <td>1434.75</td>\n",
       "      <td>1408.95</td>\n",
       "      <td>1436.55</td>\n",
       "      <td>1408.15</td>\n",
       "      <td>1</td>\n",
       "      <td>626.65</td>\n",
       "      <td>622.45</td>\n",
       "      <td>622.45</td>\n",
       "      <td>622.45</td>\n",
       "      <td>1</td>\n",
       "      <td>1400</td>\n",
       "      <td>80.273</td>\n",
       "      <td>80.890</td>\n",
       "      <td>80.940</td>\n",
       "      <td>80.035</td>\n",
       "      <td>22950</td>\n",
       "      <td>1</td>\n",
       "      <td>52.380001</td>\n",
       "      <td>53.250000</td>\n",
       "      <td>52.369999</td>\n",
       "      <td>52.990002</td>\n",
       "      <td>50.215282</td>\n",
       "      <td>11644900</td>\n",
       "      <td>37.299999</td>\n",
       "      <td>37.610001</td>\n",
       "      <td>37.220001</td>\n",
       "      <td>37.560001</td>\n",
       "      <td>37.560001</td>\n",
       "      <td>10041600</td>\n",
       "    </tr>\n",
       "    <tr>\n",
       "      <th>4</th>\n",
       "      <td>2011-12-21</td>\n",
       "      <td>156.979996</td>\n",
       "      <td>157.529999</td>\n",
       "      <td>156.130005</td>\n",
       "      <td>157.160004</td>\n",
       "      <td>157.160004</td>\n",
       "      <td>11996100</td>\n",
       "      <td>123.930000</td>\n",
       "      <td>124.360001</td>\n",
       "      <td>122.750000</td>\n",
       "      <td>124.169998</td>\n",
       "      <td>107.838242</td>\n",
       "      <td>194230900</td>\n",
       "      <td>12103.58008</td>\n",
       "      <td>12119.70020</td>\n",
       "      <td>11999.44043</td>\n",
       "      <td>12107.74023</td>\n",
       "      <td>12107.74023</td>\n",
       "      <td>163250000</td>\n",
       "      <td>67.099998</td>\n",
       "      <td>69.400002</td>\n",
       "      <td>66.900002</td>\n",
       "      <td>68.500000</td>\n",
       "      <td>66.180725</td>\n",
       "      <td>837600</td>\n",
       "      <td>1.3045</td>\n",
       "      <td>1.3079</td>\n",
       "      <td>1.3197</td>\n",
       "      <td>1.3024</td>\n",
       "      <td>0</td>\n",
       "      <td>107.71</td>\n",
       "      <td>107.15</td>\n",
       "      <td>108.17</td>\n",
       "      <td>106.16</td>\n",
       "      <td>145090</td>\n",
       "      <td>1</td>\n",
       "      <td>99.01</td>\n",
       "      <td>97.54</td>\n",
       "      <td>99.26</td>\n",
       "      <td>96.81</td>\n",
       "      <td>1</td>\n",
       "      <td>53148</td>\n",
       "      <td>53519</td>\n",
       "      <td>54184</td>\n",
       "      <td>52937</td>\n",
       "      <td>75950</td>\n",
       "      <td>0</td>\n",
       "      <td>1.970</td>\n",
       "      <td>1.970</td>\n",
       "      <td>1.970</td>\n",
       "      <td>1.970</td>\n",
       "      <td>1</td>\n",
       "      <td>1429.05</td>\n",
       "      <td>1434.40</td>\n",
       "      <td>1453.75</td>\n",
       "      <td>1417.65</td>\n",
       "      <td>0</td>\n",
       "      <td>635.90</td>\n",
       "      <td>625.70</td>\n",
       "      <td>641.50</td>\n",
       "      <td>623.80</td>\n",
       "      <td>1</td>\n",
       "      <td>1400</td>\n",
       "      <td>80.350</td>\n",
       "      <td>80.105</td>\n",
       "      <td>80.445</td>\n",
       "      <td>79.550</td>\n",
       "      <td>24140</td>\n",
       "      <td>1</td>\n",
       "      <td>53.150002</td>\n",
       "      <td>53.430000</td>\n",
       "      <td>52.419998</td>\n",
       "      <td>52.959999</td>\n",
       "      <td>50.186852</td>\n",
       "      <td>8724300</td>\n",
       "      <td>37.669998</td>\n",
       "      <td>38.240002</td>\n",
       "      <td>37.520000</td>\n",
       "      <td>38.110001</td>\n",
       "      <td>38.110001</td>\n",
       "      <td>10728000</td>\n",
       "    </tr>\n",
       "  </tbody>\n",
       "</table>\n",
       "</div>"
      ],
      "text/plain": [
       "         Date        Open        High         Low       Close   Adj Close  \\\n",
       "0  2011-12-15  154.740005  154.949997  151.710007  152.330002  152.330002   \n",
       "1  2011-12-16  154.309998  155.369995  153.899994  155.229996  155.229996   \n",
       "2  2011-12-19  155.479996  155.860001  154.360001  154.869995  154.869995   \n",
       "3  2011-12-20  156.820007  157.429993  156.580002  156.979996  156.979996   \n",
       "4  2011-12-21  156.979996  157.529999  156.130005  157.160004  157.160004   \n",
       "\n",
       "     Volume     SP_open     SP_high      SP_low    SP_close  SP_Ajclose  \\\n",
       "0  21521900  123.029999  123.199997  121.989998  122.180000  105.441238   \n",
       "1  18124300  122.230003  122.949997  121.300003  121.589996  105.597549   \n",
       "2  12547200  122.059998  122.320000  120.029999  120.290001  104.468536   \n",
       "3   9136300  122.180000  124.139999  120.370003  123.930000  107.629784   \n",
       "4  11996100  123.930000  124.360001  122.750000  124.169998  107.838242   \n",
       "\n",
       "   SP_volume      DJ_open      DJ_high       DJ_low     DJ_close   DJ_Ajclose  \\\n",
       "0  199109200  11825.29004  11967.83984  11825.21973  11868.80957  11868.80957   \n",
       "1  220481400  11870.25000  11968.17969  11819.30957  11866.38965  11866.38965   \n",
       "2  183903000  11866.54004  11925.87988  11735.19043  11766.25977  11766.25977   \n",
       "3  225418100  11769.20996  12117.12988  11768.83008  12103.58008  12103.58008   \n",
       "4  194230900  12103.58008  12119.70020  11999.44043  12107.74023  12107.74023   \n",
       "\n",
       "   DJ_volume    EG_open    EG_high     EG_low   EG_close  EG_Ajclose  \\\n",
       "0  136930000  74.550003  76.150002  72.150002  72.900002   70.431755   \n",
       "1  389520000  73.599998  75.099998  73.349998  74.900002   72.364037   \n",
       "2  135170000  69.099998  69.800003  64.199997  64.699997   62.509384   \n",
       "3  165180000  66.449997  68.099998  66.000000  67.000000   64.731514   \n",
       "4  163250000  67.099998  69.400002  66.900002  68.500000   66.180725   \n",
       "\n",
       "   EG_volume  EU_Price  EU_open  EU_high  EU_low  EU_Trend  OF_Price  OF_Open  \\\n",
       "0     787900    1.3018   1.2982   1.3051  1.2957         1    105.09   104.88   \n",
       "1     896600    1.3035   1.3020   1.3087  1.2997         1    103.35   103.51   \n",
       "2    2096700    1.2995   1.3043   1.3044  1.2981         0    103.64   103.63   \n",
       "3     875300    1.3079   1.3003   1.3133  1.2994         1    106.73   104.30   \n",
       "4     837600    1.3045   1.3079   1.3197  1.3024         0    107.71   107.15   \n",
       "\n",
       "   OF_High  OF_Low  OF_Volume  OF_Trend  OS_Price  OS_Open  OS_High  OS_Low  \\\n",
       "0   106.50  104.88      14330         1     93.42    94.91    96.00   93.33   \n",
       "1   104.56  102.46     140080         0     93.79    93.43    94.80   92.53   \n",
       "2   104.57  102.37     147880         1     94.09    93.77    94.43   92.55   \n",
       "3   107.27  103.91     170240         1     95.55    96.39    99.70   96.39   \n",
       "4   108.17  106.16     145090         1     99.01    97.54    99.26   96.81   \n",
       "\n",
       "   OS_Trend  SF_Price  SF_Open  SF_High  SF_Low  SF_Volume  SF_Trend  \\\n",
       "0         0     53604    54248    54248   52316     119440         1   \n",
       "1         1     53458    53650    54030   52890      65390         0   \n",
       "2         1     52961    53400    53400   52544      67280         0   \n",
       "3         1     53487    52795    53575   52595      55130         1   \n",
       "4         1     53148    53519    54184   52937      75950         0   \n",
       "\n",
       "   USB_Price  USB_Open  USB_High  USB_Low  USB_Trend  PLT_Price  PLT_Open  \\\n",
       "0      1.911     1.911     1.911    1.911          1    1414.65   1420.30   \n",
       "1      1.851     1.851     1.851    1.851          0    1420.25   1414.75   \n",
       "2      1.810     1.810     1.810    1.810          0    1411.10   1422.65   \n",
       "3      1.927     1.927     1.927    1.927          1    1434.75   1408.95   \n",
       "4      1.970     1.970     1.970    1.970          1    1429.05   1434.40   \n",
       "\n",
       "   PLT_High  PLT_Low  PLT_Trend  PLD_Price  PLD_Open  PLD_High  PLD_Low  \\\n",
       "0   1423.35  1376.85          0     618.85    614.70    615.00   614.60   \n",
       "1   1431.75  1400.70          1     623.65    622.60    623.45   622.30   \n",
       "2   1427.60  1404.60          0     608.80    626.00    630.00   608.60   \n",
       "3   1436.55  1408.15          1     626.65    622.45    622.45   622.45   \n",
       "4   1453.75  1417.65          0     635.90    625.70    641.50   623.80   \n",
       "\n",
       "   PLD_Trend  RHO_PRICE  USDI_Price  USDI_Open  USDI_High  USDI_Low  \\\n",
       "0          1       1425      80.341     80.565     80.630    80.130   \n",
       "1          1       1400      80.249     80.175     80.395    79.935   \n",
       "2          0       1400      80.207     80.300     80.470    80.125   \n",
       "3          1       1400      80.273     80.890     80.940    80.035   \n",
       "4          1       1400      80.350     80.105     80.445    79.550   \n",
       "\n",
       "   USDI_Volume  USDI_Trend   GDX_Open   GDX_High    GDX_Low  GDX_Close  \\\n",
       "0        22850           0  53.009998  53.139999  51.570000  51.680000   \n",
       "1        13150           0  52.500000  53.180000  52.040001  52.680000   \n",
       "2          970           0  52.490002  52.549999  51.029999  51.169998   \n",
       "3        22950           1  52.380001  53.250000  52.369999  52.990002   \n",
       "4        24140           1  53.150002  53.430000  52.419998  52.959999   \n",
       "\n",
       "   GDX_Adj Close  GDX_Volume   USO_Open   USO_High    USO_Low  USO_Close  \\\n",
       "0      48.973877    20605600  36.900002  36.939999  36.049999  36.130001   \n",
       "1      49.921513    16285400  36.180000  36.500000  35.730000  36.270000   \n",
       "2      48.490578    15120200  36.389999  36.450001  35.930000  36.200001   \n",
       "3      50.215282    11644900  37.299999  37.610001  37.220001  37.560001   \n",
       "4      50.186852     8724300  37.669998  38.240002  37.520000  38.110001   \n",
       "\n",
       "   USO_Adj Close  USO_Volume  \n",
       "0      36.130001    12616700  \n",
       "1      36.270000    12578800  \n",
       "2      36.200001     7418200  \n",
       "3      37.560001    10041600  \n",
       "4      38.110001    10728000  "
      ]
     },
     "execution_count": 199,
     "metadata": {},
     "output_type": "execute_result"
    }
   ],
   "source": [
    "gold_price.head(5)"
   ]
  },
  {
   "cell_type": "code",
   "execution_count": 189,
   "id": "90f20344",
   "metadata": {
    "scrolled": true
   },
   "outputs": [
    {
     "data": {
      "text/plain": [
       "(1718, 81)"
      ]
     },
     "execution_count": 189,
     "metadata": {},
     "output_type": "execute_result"
    }
   ],
   "source": [
    "gold_price.shape"
   ]
  },
  {
   "cell_type": "markdown",
   "id": "db1153ae",
   "metadata": {},
   "source": [
    "Observation:\n",
    "* The dataset has 1718 rows and 81 columns"
   ]
  },
  {
   "cell_type": "code",
   "execution_count": 190,
   "id": "14facbc7",
   "metadata": {
    "scrolled": true
   },
   "outputs": [
    {
     "name": "stdout",
     "output_type": "stream",
     "text": [
      "<class 'pandas.core.frame.DataFrame'>\n",
      "RangeIndex: 1718 entries, 0 to 1717\n",
      "Data columns (total 81 columns):\n",
      " #   Column         Non-Null Count  Dtype  \n",
      "---  ------         --------------  -----  \n",
      " 0   Date           1718 non-null   object \n",
      " 1   Open           1718 non-null   float64\n",
      " 2   High           1718 non-null   float64\n",
      " 3   Low            1718 non-null   float64\n",
      " 4   Close          1718 non-null   float64\n",
      " 5   Adj Close      1718 non-null   float64\n",
      " 6   Volume         1718 non-null   int64  \n",
      " 7   SP_open        1718 non-null   float64\n",
      " 8   SP_high        1718 non-null   float64\n",
      " 9   SP_low         1718 non-null   float64\n",
      " 10  SP_close       1718 non-null   float64\n",
      " 11  SP_Ajclose     1718 non-null   float64\n",
      " 12  SP_volume      1718 non-null   int64  \n",
      " 13  DJ_open        1718 non-null   float64\n",
      " 14  DJ_high        1718 non-null   float64\n",
      " 15  DJ_low         1718 non-null   float64\n",
      " 16  DJ_close       1718 non-null   float64\n",
      " 17  DJ_Ajclose     1718 non-null   float64\n",
      " 18  DJ_volume      1718 non-null   int64  \n",
      " 19  EG_open        1718 non-null   float64\n",
      " 20  EG_high        1718 non-null   float64\n",
      " 21  EG_low         1718 non-null   float64\n",
      " 22  EG_close       1718 non-null   float64\n",
      " 23  EG_Ajclose     1718 non-null   float64\n",
      " 24  EG_volume      1718 non-null   int64  \n",
      " 25  EU_Price       1718 non-null   float64\n",
      " 26  EU_open        1718 non-null   float64\n",
      " 27  EU_high        1718 non-null   float64\n",
      " 28  EU_low         1718 non-null   float64\n",
      " 29  EU_Trend       1718 non-null   int64  \n",
      " 30  OF_Price       1718 non-null   float64\n",
      " 31  OF_Open        1718 non-null   float64\n",
      " 32  OF_High        1718 non-null   float64\n",
      " 33  OF_Low         1718 non-null   float64\n",
      " 34  OF_Volume      1718 non-null   int64  \n",
      " 35  OF_Trend       1718 non-null   int64  \n",
      " 36  OS_Price       1718 non-null   float64\n",
      " 37  OS_Open        1718 non-null   float64\n",
      " 38  OS_High        1718 non-null   float64\n",
      " 39  OS_Low         1718 non-null   float64\n",
      " 40  OS_Trend       1718 non-null   int64  \n",
      " 41  SF_Price       1718 non-null   int64  \n",
      " 42  SF_Open        1718 non-null   int64  \n",
      " 43  SF_High        1718 non-null   int64  \n",
      " 44  SF_Low         1718 non-null   int64  \n",
      " 45  SF_Volume      1718 non-null   int64  \n",
      " 46  SF_Trend       1718 non-null   int64  \n",
      " 47  USB_Price      1718 non-null   float64\n",
      " 48  USB_Open       1718 non-null   float64\n",
      " 49  USB_High       1718 non-null   float64\n",
      " 50  USB_Low        1718 non-null   float64\n",
      " 51  USB_Trend      1718 non-null   int64  \n",
      " 52  PLT_Price      1718 non-null   float64\n",
      " 53  PLT_Open       1718 non-null   float64\n",
      " 54  PLT_High       1718 non-null   float64\n",
      " 55  PLT_Low        1718 non-null   float64\n",
      " 56  PLT_Trend      1718 non-null   int64  \n",
      " 57  PLD_Price      1718 non-null   float64\n",
      " 58  PLD_Open       1718 non-null   float64\n",
      " 59  PLD_High       1718 non-null   float64\n",
      " 60  PLD_Low        1718 non-null   float64\n",
      " 61  PLD_Trend      1718 non-null   int64  \n",
      " 62  RHO_PRICE      1718 non-null   int64  \n",
      " 63  USDI_Price     1718 non-null   float64\n",
      " 64  USDI_Open      1718 non-null   float64\n",
      " 65  USDI_High      1718 non-null   float64\n",
      " 66  USDI_Low       1718 non-null   float64\n",
      " 67  USDI_Volume    1718 non-null   int64  \n",
      " 68  USDI_Trend     1718 non-null   int64  \n",
      " 69  GDX_Open       1718 non-null   float64\n",
      " 70  GDX_High       1718 non-null   float64\n",
      " 71  GDX_Low        1718 non-null   float64\n",
      " 72  GDX_Close      1718 non-null   float64\n",
      " 73  GDX_Adj Close  1718 non-null   float64\n",
      " 74  GDX_Volume     1718 non-null   int64  \n",
      " 75  USO_Open       1718 non-null   float64\n",
      " 76  USO_High       1718 non-null   float64\n",
      " 77  USO_Low        1718 non-null   float64\n",
      " 78  USO_Close      1718 non-null   float64\n",
      " 79  USO_Adj Close  1718 non-null   float64\n",
      " 80  USO_Volume     1718 non-null   int64  \n",
      "dtypes: float64(58), int64(22), object(1)\n",
      "memory usage: 1.1+ MB\n"
     ]
    }
   ],
   "source": [
    "gold_price.info()"
   ]
  },
  {
   "cell_type": "markdown",
   "id": "eaafeaa6",
   "metadata": {},
   "source": [
    "Observation:\n",
    "* only has three data types: object, float64, and int64\n",
    "* only 'Date' has a data type of object\n",
    "* indicators for gold are not labelled\n",
    "* the capitalisation of the naming is not consistent"
   ]
  },
  {
   "cell_type": "code",
   "execution_count": 191,
   "id": "eb3cf0dd",
   "metadata": {},
   "outputs": [
    {
     "data": {
      "text/plain": [
       "Index(['Open', 'High', 'Low', 'Close', 'Adj Close',\n",
       "       ...\n",
       "       'USO_Open', 'USO_High', 'USO_Low', 'USO_Close', 'USO_Adj Close'],\n",
       "      dtype='object', length=58)"
      ]
     },
     "execution_count": 191,
     "metadata": {},
     "output_type": "execute_result"
    }
   ],
   "source": [
    "gold_price.select_dtypes(include=['float64']).columns"
   ]
  },
  {
   "cell_type": "code",
   "execution_count": 192,
   "id": "6394ea9f",
   "metadata": {},
   "outputs": [
    {
     "data": {
      "text/plain": [
       "['Volume',\n",
       " 'SP_volume',\n",
       " 'DJ_volume',\n",
       " 'EG_volume',\n",
       " 'EU_Trend',\n",
       " 'OF_Volume',\n",
       " 'OF_Trend',\n",
       " 'OS_Trend',\n",
       " 'SF_Price',\n",
       " 'SF_Open',\n",
       " 'SF_High',\n",
       " 'SF_Low',\n",
       " 'SF_Volume',\n",
       " 'SF_Trend',\n",
       " 'USB_Trend',\n",
       " 'PLT_Trend',\n",
       " 'PLD_Trend',\n",
       " 'RHO_PRICE',\n",
       " 'USDI_Volume',\n",
       " 'USDI_Trend',\n",
       " 'GDX_Volume',\n",
       " 'USO_Volume']"
      ]
     },
     "execution_count": 192,
     "metadata": {},
     "output_type": "execute_result"
    }
   ],
   "source": [
    "gold_price.select_dtypes(include=['int64']).columns.tolist()"
   ]
  },
  {
   "cell_type": "code",
   "execution_count": 193,
   "id": "64d190d2",
   "metadata": {},
   "outputs": [
    {
     "data": {
      "text/plain": [
       "0       53604\n",
       "1       53458\n",
       "2       52961\n",
       "3       53487\n",
       "4       53148\n",
       "        ...  \n",
       "1713    37541\n",
       "1714    38253\n",
       "1715    38690\n",
       "1716    38706\n",
       "1717    38821\n",
       "Name: SF_Price, Length: 1718, dtype: int64"
      ]
     },
     "execution_count": 193,
     "metadata": {},
     "output_type": "execute_result"
    }
   ],
   "source": [
    "gold_price['SF_Price']"
   ]
  },
  {
   "cell_type": "code",
   "execution_count": 194,
   "id": "350c84be",
   "metadata": {
    "scrolled": true
   },
   "outputs": [
    {
     "data": {
      "text/plain": [
       "Index(['Close', 'Adj Close', 'SP_close', 'SP_Ajclose', 'DJ_close',\n",
       "       ...\n",
       "       'EG_Ajclose', 'GDX_Close', 'GDX_Adj Close', 'USO_Close',\n",
       "       'USO_Adj Close'],\n",
       "      dtype='object', length=12)"
      ]
     },
     "execution_count": 194,
     "metadata": {},
     "output_type": "execute_result"
    }
   ],
   "source": [
    "gold_price.columns[gold_price.columns.str.lower().str.contains('close')]"
   ]
  },
  {
   "cell_type": "markdown",
   "id": "b0ffa682",
   "metadata": {},
   "source": [
    "Observation: \n",
    "* the adjusted close are not named consistently."
   ]
  },
  {
   "cell_type": "code",
   "execution_count": 195,
   "id": "93c9276c",
   "metadata": {},
   "outputs": [
    {
     "data": {
      "text/plain": [
       "Close         1.000000\n",
       "Adj Close     1.000000\n",
       "High          0.999535\n",
       "Low           0.999532\n",
       "Open          0.998976\n",
       "                ...   \n",
       "PLD_Trend     0.026536\n",
       "USB_Trend     0.025933\n",
       "EU_Trend      0.019913\n",
       "USDI_Trend    0.016641\n",
       "PLT_Trend     0.011355\n",
       "Name: Adj Close, Length: 80, dtype: float64"
      ]
     },
     "execution_count": 195,
     "metadata": {},
     "output_type": "execute_result"
    }
   ],
   "source": [
    "all_corr = gold_price.corr().abs()['Adj Close'].sort_values(ascending = False)\n",
    "all_corr"
   ]
  },
  {
   "cell_type": "code",
   "execution_count": 197,
   "id": "8fe78168",
   "metadata": {},
   "outputs": [
    {
     "data": {
      "text/plain": [
       "SF_Price      1.000000\n",
       "SF_High       0.998816\n",
       "SF_Low        0.998784\n",
       "SF_Open       0.997252\n",
       "High          0.947434\n",
       "                ...   \n",
       "PLD_Trend     0.026307\n",
       "RHO_PRICE     0.022740\n",
       "EU_Trend      0.018795\n",
       "PLT_Trend     0.011590\n",
       "USDI_Trend    0.005840\n",
       "Name: SF_Price, Length: 80, dtype: float64"
      ]
     },
     "execution_count": 197,
     "metadata": {},
     "output_type": "execute_result"
    }
   ],
   "source": [
    "silver_corr = gold_price.corr().abs()['SF_Price'].sort_values(ascending = False)\n",
    "silver_corr"
   ]
  },
  {
   "cell_type": "code",
   "execution_count": 196,
   "id": "0d5f73cb",
   "metadata": {},
   "outputs": [
    {
     "data": {
      "text/plain": [
       "PLT_Price    1.000000\n",
       "PLT_High     0.999535\n",
       "PLT_Low      0.999533\n",
       "PLT_Open     0.998763\n",
       "USO_High     0.930714\n",
       "               ...   \n",
       "OS_Trend     0.012430\n",
       "OF_Trend     0.011103\n",
       "SF_Trend     0.007927\n",
       "PLT_Trend    0.006597\n",
       "EU_Trend     0.006376\n",
       "Name: PLT_Price, Length: 80, dtype: float64"
      ]
     },
     "execution_count": 196,
     "metadata": {},
     "output_type": "execute_result"
    }
   ],
   "source": [
    "plt_corr = gold_price.corr().abs()['PLT_Price'].sort_values(ascending = False)\n",
    "plt_corr"
   ]
  },
  {
   "cell_type": "markdown",
   "id": "0894b11d",
   "metadata": {},
   "source": [
    "### 2.2 Initial Features Engineering\n",
    "#### 2.2.1 Apply Consistent Naming"
   ]
  },
  {
   "cell_type": "code",
   "execution_count": 145,
   "id": "65ee0a40",
   "metadata": {
    "scrolled": true
   },
   "outputs": [
    {
     "name": "stdout",
     "output_type": "stream",
     "text": [
      "['Date', 'GOLD_open', 'GOLD_high', 'GOLD_low', 'GOLD_close', 'GOLD_ajclose', 'GOLD_volume', 'SP_open', 'SP_high', 'SP_low', 'SP_close', 'SP_ajclose', 'SP_volume', 'DJ_open', 'DJ_high', 'DJ_low', 'DJ_close', 'DJ_ajclose', 'DJ_volume', 'EG_open', 'EG_high', 'EG_low', 'EG_close', 'EG_ajclose', 'EG_volume', 'EU_price', 'EU_open', 'EU_high', 'EU_low', 'EU_trend', 'OF_price', 'OF_open', 'OF_high', 'OF_low', 'OF_volume', 'OF_trend', 'OS_price', 'OS_open', 'OS_high', 'OS_low', 'OS_trend', 'SF_price', 'SF_open', 'SF_high', 'SF_low', 'SF_volume', 'SF_trend', 'USB_price', 'USB_open', 'USB_high', 'USB_low', 'USB_trend', 'PLT_price', 'PLT_open', 'PLT_high', 'PLT_low', 'PLT_trend', 'PLD_price', 'PLD_open', 'PLD_high', 'PLD_low', 'PLD_trend', 'RHO_price', 'USDI_price', 'USDI_open', 'USDI_high', 'USDI_low', 'USDI_volume', 'USDI_trend', 'GDX_open', 'GDX_high', 'GDX_low', 'GDX_close', 'GDX_ajclose', 'GDX_volume', 'USO_open', 'USO_high', 'USO_low', 'USO_close', 'USO_ajclose', 'USO_volume']\n"
     ]
    }
   ],
   "source": [
    "# Rename and format Gold columns\n",
    "gold_price.rename(columns={\n",
    "    'Open': 'GOLD_open',\n",
    "    'High': 'GOLD_high',\n",
    "    'Low': 'GOLD_low',\n",
    "    'Close': 'GOLD_close',\n",
    "    'Adj Close': 'GOLD_ajclose',\n",
    "    'Volume': 'GOLD_volume',\n",
    "    'GDX_Adj Close' : 'GDX_ajclose',\n",
    "    'USO_Adj Close' : 'USO_ajclose'\n",
    "}, inplace=True)\n",
    "\n",
    "# Rename columns with lowercase letters after underscore\n",
    "gold_price.columns = [col.split('_')[0] + '_' + \n",
    "                      '_'.join(part.lower() for part in col.split('_')[1:]) \n",
    "                      if col not in ['Date'] else col\n",
    "                      for col in gold_price.columns]\n",
    "\n",
    "print(gold_price.columns.tolist())"
   ]
  },
  {
   "cell_type": "markdown",
   "id": "25600925",
   "metadata": {},
   "source": [
    "#### 2.2.2 Arranging Columns"
   ]
  },
  {
   "cell_type": "code",
   "execution_count": 138,
   "id": "bcfbde02",
   "metadata": {},
   "outputs": [
    {
     "name": "stdout",
     "output_type": "stream",
     "text": [
      "['Date', 'GOLD_open', 'GOLD_high', 'GOLD_low', 'GOLD_close', 'GOLD_ajclose', 'GOLD_volume', 'PLT_price', 'PLT_open', 'PLT_high', 'PLT_low', 'PLT_trend', 'SF_price', 'SF_open', 'SF_high', 'SF_low', 'SF_volume', 'SF_trend', 'SP_open', 'SP_high', 'SP_low', 'SP_close', 'SP_ajclose', 'SP_volume', 'DJ_open', 'DJ_high', 'DJ_low', 'DJ_close', 'DJ_ajclose', 'DJ_volume', 'EG_open', 'EG_high', 'EG_low', 'EG_close', 'EG_ajclose', 'EG_volume', 'EU_price', 'EU_open', 'EU_high', 'EU_low', 'EU_trend', 'OF_price', 'OF_open', 'OF_high', 'OF_low', 'OF_volume', 'OF_trend', 'OS_price', 'OS_open', 'OS_high', 'OS_low', 'OS_trend', 'USB_price', 'USB_open', 'USB_high', 'USB_low', 'USB_trend', 'PLD_price', 'PLD_open', 'PLD_high', 'PLD_low', 'PLD_trend', 'RHO_price', 'USDI_price', 'USDI_open', 'USDI_high', 'USDI_low', 'USDI_volume', 'USDI_trend', 'GDX_open', 'GDX_high', 'GDX_low', 'GDX_close', 'GDX_adj close', 'GDX_volume', 'USO_open', 'USO_high', 'USO_low', 'USO_close', 'USO_adj close', 'USO_volume']\n"
     ]
    }
   ],
   "source": [
    "# Function to extract prefix from a column name\n",
    "def extract_prefix(col):\n",
    "    return col.split('_')[0]\n",
    "\n",
    "# Get unique prefixes and their respective columns\n",
    "prefix_columns = {}\n",
    "for col in gold_price.columns:\n",
    "    prefix = extract_prefix(col)\n",
    "    if prefix not in prefix_columns:\n",
    "        prefix_columns[prefix] = []\n",
    "    prefix_columns[prefix].append(col)\n",
    "\n",
    "# Desired prefix order\n",
    "desired_prefix_order = ['Date', 'GOLD', 'PLT', 'SF', 'SP', 'DJ', 'EG', 'EU', 'OF', 'OS', 'USB', 'PLD', 'RHO', 'USDI', 'GDX', 'USO']\n",
    "\n",
    "# Reorder columns based on desired_prefix_order\n",
    "reordered_columns = []\n",
    "for prefix in desired_prefix_order:\n",
    "    if prefix in prefix_columns:\n",
    "        reordered_columns.extend(prefix_columns[prefix])\n",
    "\n",
    "# Reorder the DataFrame columns\n",
    "gold_price = gold_price[reordered_columns]\n",
    "\n",
    "# Print the modified column order\n",
    "print(gold_price.columns.tolist())"
   ]
  },
  {
   "cell_type": "markdown",
   "id": "bb5a9933",
   "metadata": {},
   "source": [
    "#### 2.2.3 Change Date's Data Type"
   ]
  },
  {
   "cell_type": "code",
   "execution_count": 130,
   "id": "25c994ee",
   "metadata": {},
   "outputs": [
    {
     "data": {
      "text/plain": [
       "0   2011-12-15\n",
       "1   2011-12-16\n",
       "2   2011-12-19\n",
       "3   2011-12-20\n",
       "4   2011-12-21\n",
       "Name: Date, dtype: datetime64[ns]"
      ]
     },
     "execution_count": 130,
     "metadata": {},
     "output_type": "execute_result"
    }
   ],
   "source": [
    "gold_price['Date'] = pd.to_datetime(gold_price['Date'])\n",
    "gold_price['Date'].head(5)"
   ]
  },
  {
   "cell_type": "code",
   "execution_count": 68,
   "id": "517cb1bb",
   "metadata": {},
   "outputs": [
    {
     "data": {
      "text/plain": [
       "0    1414.65\n",
       "1    1420.25\n",
       "2    1411.10\n",
       "3    1434.75\n",
       "4    1429.05\n",
       "Name: PLT_price, dtype: float64"
      ]
     },
     "execution_count": 68,
     "metadata": {},
     "output_type": "execute_result"
    }
   ],
   "source": [
    "gold_price['PLT_price'].head(5)"
   ]
  },
  {
   "cell_type": "code",
   "execution_count": 69,
   "id": "3b82cf07",
   "metadata": {
    "scrolled": true
   },
   "outputs": [
    {
     "data": {
      "text/plain": [
       "0    1420.30\n",
       "1    1414.75\n",
       "2    1422.65\n",
       "3    1408.95\n",
       "4    1434.40\n",
       "Name: PLT_open, dtype: float64"
      ]
     },
     "execution_count": 69,
     "metadata": {},
     "output_type": "execute_result"
    }
   ],
   "source": [
    "gold_price['PLT_open'].head(5)"
   ]
  },
  {
   "cell_type": "code",
   "execution_count": 11,
   "id": "4e5814f1",
   "metadata": {
    "scrolled": true
   },
   "outputs": [
    {
     "name": "stdout",
     "output_type": "stream",
     "text": [
      "            Date        Open        High         Low       Close   Adj Close  \\\n",
      "1713  2018-12-24  119.570000  120.139999  119.570000  120.019997  120.019997   \n",
      "1714  2018-12-26  120.620003  121.000000  119.570000  119.660004  119.660004   \n",
      "1715  2018-12-27  120.570000  120.900002  120.139999  120.570000  120.570000   \n",
      "1716  2018-12-28  120.800003  121.080002  120.720001  121.059998  121.059998   \n",
      "1717  2018-12-31  120.980003  121.260002  120.830002  121.250000  121.250000   \n",
      "\n",
      "        Volume  \n",
      "1713   9736400  \n",
      "1714  14293500  \n",
      "1715  11874400  \n",
      "1716   6864700  \n",
      "1717   8449400  \n"
     ]
    }
   ],
   "source": [
    "# List of columns you want to keep\n",
    "columns_to_keep = [\n",
    "    'Date', 'Open', 'High', 'Low', 'Close', 'Adj Close', 'Volume'\n",
    "]\n",
    "\n",
    "# Create the new DataFrame by selecting the desired columns\n",
    "new_df = gold_price[columns_to_keep]\n",
    "\n",
    "# Display the first 5 rows (head) of the new DataFrame\n",
    "print(new_df.tail(5))"
   ]
  },
  {
   "cell_type": "code",
   "execution_count": 12,
   "id": "2df2cc21",
   "metadata": {},
   "outputs": [
    {
     "name": "stdout",
     "output_type": "stream",
     "text": [
      "            Date  PLT_Price  PLT_Open  PLT_High  PLT_Low  PLT_Trend\n",
      "1708  2018-12-17     793.10    787.40    798.25   782.70          1\n",
      "1709  2018-12-18     792.90    793.25    795.75   786.10          0\n",
      "1710  2018-12-19     787.70    792.75    799.30   785.60          0\n",
      "1711  2018-12-20     796.40    787.60    798.80   785.00          1\n",
      "1712  2018-12-21     789.05    796.50    798.60   788.00          0\n",
      "1713  2018-12-24     788.40    791.85    798.30   788.30          0\n",
      "1714  2018-12-26     799.25    788.75    804.30   788.75          1\n",
      "1715  2018-12-27     795.50    799.40    802.20   785.10          0\n",
      "1716  2018-12-28     790.25    795.60    800.50   787.75          0\n",
      "1717  2018-12-31     801.40    795.95    802.80   793.10          1\n"
     ]
    }
   ],
   "source": [
    "# List of columns you want to keep\n",
    "columns_to_keep = [\n",
    "    'Date', 'PLT_Price', 'PLT_Open', 'PLT_High', 'PLT_Low', 'PLT_Trend'\n",
    "]\n",
    "\n",
    "# Create the new DataFrame by selecting the desired columns\n",
    "new_df = gold_price[columns_to_keep]\n",
    "\n",
    "# Display the first 5 rows (head) of the new DataFrame\n",
    "print(new_df.tail(10))"
   ]
  },
  {
   "cell_type": "code",
   "execution_count": 13,
   "id": "1ba56189",
   "metadata": {},
   "outputs": [
    {
     "data": {
      "text/plain": [
       "(1718, 81)"
      ]
     },
     "execution_count": 13,
     "metadata": {},
     "output_type": "execute_result"
    }
   ],
   "source": [
    "gold_price.shape"
   ]
  },
  {
   "cell_type": "markdown",
   "id": "265dcd50",
   "metadata": {},
   "source": [
    "## 3. Data Preparation\n",
    "### 3.1 Dealing with Missing Values"
   ]
  },
  {
   "cell_type": "code",
   "execution_count": 27,
   "id": "0cc40df4",
   "metadata": {
    "scrolled": false
   },
   "outputs": [
    {
     "data": {
      "text/plain": [
       "False"
      ]
     },
     "execution_count": 27,
     "metadata": {},
     "output_type": "execute_result"
    }
   ],
   "source": [
    "gold_price.isnull().any().any()"
   ]
  }
 ],
 "metadata": {
  "kernelspec": {
   "display_name": "Python 3 (ipykernel)",
   "language": "python",
   "name": "python3"
  },
  "language_info": {
   "codemirror_mode": {
    "name": "ipython",
    "version": 3
   },
   "file_extension": ".py",
   "mimetype": "text/x-python",
   "name": "python",
   "nbconvert_exporter": "python",
   "pygments_lexer": "ipython3",
   "version": "3.9.13"
  }
 },
 "nbformat": 4,
 "nbformat_minor": 5
}
