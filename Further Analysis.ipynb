{
 "cells": [
  {
   "cell_type": "markdown",
   "id": "b95ba1e9",
   "metadata": {},
   "source": [
    "#### Importing Libraries and File Reading"
   ]
  },
  {
   "cell_type": "code",
   "execution_count": null,
   "id": "2337d4a7",
   "metadata": {},
   "outputs": [],
   "source": [
    "import pandas as pd\n",
    "import warnings\n",
    "import numpy as np\n",
    "import seaborn as sns\n",
    "# for visualisation\n",
    "import matplotlib.pyplot as plt\n",
    "# for candlestick chart plotting\n",
    "import mplfinance as mpf\n",
    "# for heatmap\n",
    "import seaborn as sns"
   ]
  },
  {
   "cell_type": "code",
   "execution_count": null,
   "id": "91359258",
   "metadata": {},
   "outputs": [],
   "source": [
    "# configurations for pandas display\n",
    "pd.options.display.max_columns = None\n",
    "pd.options.display.max_rows = None\n",
    "pd.options.display.max_seq_items = None\n",
    "pd.set_option('max_colwidth', None)\n",
    "\n",
    "# Disable all warnings\n",
    "warnings.filterwarnings(\"ignore\")"
   ]
  },
  {
   "cell_type": "markdown",
   "id": "9b18a7dc",
   "metadata": {},
   "source": [
    "## 6. Further Analysis"
   ]
  },
  {
   "cell_type": "code",
   "execution_count": null,
   "id": "8a7f8e4b",
   "metadata": {},
   "outputs": [],
   "source": [
    "# List of columns you want to keep\n",
    "columns_to_keep = [\n",
    "    'Date', 'PLT_Price', 'PLT_Open', 'PLT_High', 'PLT_Low', 'PLT_Trend'\n",
    "]\n",
    "\n",
    "# Create the new DataFrame by selecting the desired columns\n",
    "new_df = gold_price[columns_to_keep]\n",
    "\n",
    "# Display the first 5 rows (head) of the new DataFrame\n",
    "print(new_df.tail(10))"
   ]
  },
  {
   "cell_type": "code",
   "execution_count": null,
   "id": "02a84cc8",
   "metadata": {},
   "outputs": [],
   "source": [
    "# Define the columns to plot\n",
    "gold_columns = ['GOLD_open', 'GOLD_high', 'GOLD_low', 'GOLD_ajclose', 'GOLD_volume']\n",
    "\n",
    "gold_plot = gold_price[gold_columns]\n",
    "\n",
    "# Rename the columns to match default column names\n",
    "gold_plot.rename(columns={\n",
    "    'GOLD_open': 'Open',\n",
    "    'GOLD_high': 'High',\n",
    "    'GOLD_low': 'Low',\n",
    "    'GOLD_ajclose': 'Close',\n",
    "    'GOLD_volume': 'Volume'\n",
    "}, inplace=True)\n",
    "\n",
    "# Plot the candlestick chart\n",
    "mpf.plot(gold_plot, type='candle', title='GOLD Candlestick Chart', style='yahoo', volume=True, ylabel='Price',\n",
    "         addplot=[mpf.make_addplot(gold_plot['Close'], panel=1, color='g', secondary_y=True)],\n",
    "         figratio=(10, 6), figsize=(12, 8), tight_layout=True)"
   ]
  },
  {
   "cell_type": "code",
   "execution_count": null,
   "id": "e5ad6e8c",
   "metadata": {},
   "outputs": [],
   "source": [
    "# Filter the DataFrame to include only the desired date range\n",
    "start_date = '2013-03-10'\n",
    "end_date = '2013-07-31'\n",
    "gold_plot_filtered = gold_plot[(gold_plot.index >= start_date) \n",
    "                               & (gold_plot.index <= end_date)]\n",
    "\n",
    "# Plot the candlestick chart with the filtered DataFrame\n",
    "mpf.plot(gold_plot_filtered, type='candle', title='GOLD Candlestick Chart', style='yahoo', volume=True, ylabel='Price',\n",
    "         addplot=[mpf.make_addplot(gold_plot_filtered['Close'], panel=1, color='g', secondary_y=True)],\n",
    "         figratio=(10, 6), figsize=(12, 8), tight_layout=True)"
   ]
  }
 ],
 "metadata": {
  "kernelspec": {
   "display_name": "Python 3 (ipykernel)",
   "language": "python",
   "name": "python3"
  },
  "language_info": {
   "codemirror_mode": {
    "name": "ipython",
    "version": 3
   },
   "file_extension": ".py",
   "mimetype": "text/x-python",
   "name": "python",
   "nbconvert_exporter": "python",
   "pygments_lexer": "ipython3",
   "version": "3.9.13"
  }
 },
 "nbformat": 4,
 "nbformat_minor": 5
}
