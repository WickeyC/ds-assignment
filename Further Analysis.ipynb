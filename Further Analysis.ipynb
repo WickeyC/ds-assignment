{
 "cells": [
  {
   "cell_type": "markdown",
   "id": "b95ba1e9",
   "metadata": {},
   "source": [
    "#### Importing Libraries and File Reading"
   ]
  },
  {
   "cell_type": "code",
   "execution_count": null,
   "id": "2337d4a7",
   "metadata": {},
   "outputs": [],
   "source": [
    "import pandas as pd\n",
    "import warnings\n",
    "import numpy as np\n",
    "import seaborn as sns\n",
    "# for visualisation\n",
    "import matplotlib.pyplot as plt\n",
    "# for candlestick chart plotting\n",
    "import mplfinance as mpf\n",
    "# for heatmap\n",
    "import seaborn as sns"
   ]
  },
  {
   "cell_type": "code",
   "execution_count": null,
   "id": "91359258",
   "metadata": {},
   "outputs": [],
   "source": [
    "# configurations for pandas display\n",
    "pd.options.display.max_columns = None\n",
    "pd.options.display.max_rows = None\n",
    "pd.options.display.max_seq_items = None\n",
    "pd.set_option('max_colwidth', None)\n",
    "\n",
    "# Disable all warnings\n",
    "warnings.filterwarnings(\"ignore\")"
   ]
  },
  {
   "cell_type": "markdown",
   "id": "9b18a7dc",
   "metadata": {},
   "source": [
    "## 6. Further Analysis"
   ]
  },
  {
   "cell_type": "code",
   "execution_count": null,
   "id": "8a7f8e4b",
   "metadata": {},
   "outputs": [],
   "source": []
  }
 ],
 "metadata": {
  "kernelspec": {
   "display_name": "Python 3 (ipykernel)",
   "language": "python",
   "name": "python3"
  },
  "language_info": {
   "codemirror_mode": {
    "name": "ipython",
    "version": 3
   },
   "file_extension": ".py",
   "mimetype": "text/x-python",
   "name": "python",
   "nbconvert_exporter": "python",
   "pygments_lexer": "ipython3",
   "version": "3.9.13"
  }
 },
 "nbformat": 4,
 "nbformat_minor": 5
}
